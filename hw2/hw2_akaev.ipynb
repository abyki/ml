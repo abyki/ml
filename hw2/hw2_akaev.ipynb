{
  "nbformat": 4,
  "nbformat_minor": 0,
  "metadata": {
    "colab": {
      "name": "hw2_akaev.ipynb",
      "provenance": [],
      "authorship_tag": "ABX9TyNWOkWxguvI7zpJjLwQJ2mb",
      "include_colab_link": true
    },
    "kernelspec": {
      "name": "python3",
      "display_name": "Python 3"
    },
    "language_info": {
      "name": "python"
    },
    "widgets": {
      "application/vnd.jupyter.widget-state+json": {
        "2fe782a560a4438891e1077e2ba77f8e": {
          "model_module": "@jupyter-widgets/controls",
          "model_name": "HBoxModel",
          "model_module_version": "1.5.0",
          "state": {
            "_view_name": "HBoxView",
            "_dom_classes": [],
            "_model_name": "HBoxModel",
            "_view_module": "@jupyter-widgets/controls",
            "_model_module_version": "1.5.0",
            "_view_count": null,
            "_view_module_version": "1.5.0",
            "box_style": "",
            "layout": "IPY_MODEL_711f22d24f7143ceaf71ea514d987d3f",
            "_model_module": "@jupyter-widgets/controls",
            "children": [
              "IPY_MODEL_8415bb7947d549519d0ade5e84e59755",
              "IPY_MODEL_b482732eeb3e4c14b46322287f39dc44",
              "IPY_MODEL_c3568ca63b4a49b29e427a231166a361"
            ]
          }
        },
        "711f22d24f7143ceaf71ea514d987d3f": {
          "model_module": "@jupyter-widgets/base",
          "model_name": "LayoutModel",
          "model_module_version": "1.2.0",
          "state": {
            "_view_name": "LayoutView",
            "grid_template_rows": null,
            "right": null,
            "justify_content": null,
            "_view_module": "@jupyter-widgets/base",
            "overflow": null,
            "_model_module_version": "1.2.0",
            "_view_count": null,
            "flex_flow": null,
            "width": null,
            "min_width": null,
            "border": null,
            "align_items": null,
            "bottom": null,
            "_model_module": "@jupyter-widgets/base",
            "top": null,
            "grid_column": null,
            "overflow_y": null,
            "overflow_x": null,
            "grid_auto_flow": null,
            "grid_area": null,
            "grid_template_columns": null,
            "flex": null,
            "_model_name": "LayoutModel",
            "justify_items": null,
            "grid_row": null,
            "max_height": null,
            "align_content": null,
            "visibility": null,
            "align_self": null,
            "height": null,
            "min_height": null,
            "padding": null,
            "grid_auto_rows": null,
            "grid_gap": null,
            "max_width": null,
            "order": null,
            "_view_module_version": "1.2.0",
            "grid_template_areas": null,
            "object_position": null,
            "object_fit": null,
            "grid_auto_columns": null,
            "margin": null,
            "display": null,
            "left": null
          }
        },
        "8415bb7947d549519d0ade5e84e59755": {
          "model_module": "@jupyter-widgets/controls",
          "model_name": "HTMLModel",
          "model_module_version": "1.5.0",
          "state": {
            "_view_name": "HTMLView",
            "style": "IPY_MODEL_26ac2671c33441d49f4aea00a5c4fc5a",
            "_dom_classes": [],
            "description": "",
            "_model_name": "HTMLModel",
            "placeholder": "​",
            "_view_module": "@jupyter-widgets/controls",
            "_model_module_version": "1.5.0",
            "value": "100%",
            "_view_count": null,
            "_view_module_version": "1.5.0",
            "description_tooltip": null,
            "_model_module": "@jupyter-widgets/controls",
            "layout": "IPY_MODEL_a389d7a498ee41678f7c3fcee1aafbf0"
          }
        },
        "b482732eeb3e4c14b46322287f39dc44": {
          "model_module": "@jupyter-widgets/controls",
          "model_name": "FloatProgressModel",
          "model_module_version": "1.5.0",
          "state": {
            "_view_name": "ProgressView",
            "style": "IPY_MODEL_f7b7ac0499f342c4b73a7ab50630ec89",
            "_dom_classes": [],
            "description": "",
            "_model_name": "FloatProgressModel",
            "bar_style": "success",
            "max": 100,
            "_view_module": "@jupyter-widgets/controls",
            "_model_module_version": "1.5.0",
            "value": 100,
            "_view_count": null,
            "_view_module_version": "1.5.0",
            "orientation": "horizontal",
            "min": 0,
            "description_tooltip": null,
            "_model_module": "@jupyter-widgets/controls",
            "layout": "IPY_MODEL_46b0a072a53f4457bbc0fe6c174a4c05"
          }
        },
        "c3568ca63b4a49b29e427a231166a361": {
          "model_module": "@jupyter-widgets/controls",
          "model_name": "HTMLModel",
          "model_module_version": "1.5.0",
          "state": {
            "_view_name": "HTMLView",
            "style": "IPY_MODEL_319e182c94b94dc793872ba4650035a5",
            "_dom_classes": [],
            "description": "",
            "_model_name": "HTMLModel",
            "placeholder": "​",
            "_view_module": "@jupyter-widgets/controls",
            "_model_module_version": "1.5.0",
            "value": " 100/100 [04:01&lt;00:00,  2.51s/it]",
            "_view_count": null,
            "_view_module_version": "1.5.0",
            "description_tooltip": null,
            "_model_module": "@jupyter-widgets/controls",
            "layout": "IPY_MODEL_05dbd9b47205404aa26ee5cc80c0bece"
          }
        },
        "26ac2671c33441d49f4aea00a5c4fc5a": {
          "model_module": "@jupyter-widgets/controls",
          "model_name": "DescriptionStyleModel",
          "model_module_version": "1.5.0",
          "state": {
            "_view_name": "StyleView",
            "_model_name": "DescriptionStyleModel",
            "description_width": "",
            "_view_module": "@jupyter-widgets/base",
            "_model_module_version": "1.5.0",
            "_view_count": null,
            "_view_module_version": "1.2.0",
            "_model_module": "@jupyter-widgets/controls"
          }
        },
        "a389d7a498ee41678f7c3fcee1aafbf0": {
          "model_module": "@jupyter-widgets/base",
          "model_name": "LayoutModel",
          "model_module_version": "1.2.0",
          "state": {
            "_view_name": "LayoutView",
            "grid_template_rows": null,
            "right": null,
            "justify_content": null,
            "_view_module": "@jupyter-widgets/base",
            "overflow": null,
            "_model_module_version": "1.2.0",
            "_view_count": null,
            "flex_flow": null,
            "width": null,
            "min_width": null,
            "border": null,
            "align_items": null,
            "bottom": null,
            "_model_module": "@jupyter-widgets/base",
            "top": null,
            "grid_column": null,
            "overflow_y": null,
            "overflow_x": null,
            "grid_auto_flow": null,
            "grid_area": null,
            "grid_template_columns": null,
            "flex": null,
            "_model_name": "LayoutModel",
            "justify_items": null,
            "grid_row": null,
            "max_height": null,
            "align_content": null,
            "visibility": null,
            "align_self": null,
            "height": null,
            "min_height": null,
            "padding": null,
            "grid_auto_rows": null,
            "grid_gap": null,
            "max_width": null,
            "order": null,
            "_view_module_version": "1.2.0",
            "grid_template_areas": null,
            "object_position": null,
            "object_fit": null,
            "grid_auto_columns": null,
            "margin": null,
            "display": null,
            "left": null
          }
        },
        "f7b7ac0499f342c4b73a7ab50630ec89": {
          "model_module": "@jupyter-widgets/controls",
          "model_name": "ProgressStyleModel",
          "model_module_version": "1.5.0",
          "state": {
            "_view_name": "StyleView",
            "_model_name": "ProgressStyleModel",
            "description_width": "",
            "_view_module": "@jupyter-widgets/base",
            "_model_module_version": "1.5.0",
            "_view_count": null,
            "_view_module_version": "1.2.0",
            "bar_color": null,
            "_model_module": "@jupyter-widgets/controls"
          }
        },
        "46b0a072a53f4457bbc0fe6c174a4c05": {
          "model_module": "@jupyter-widgets/base",
          "model_name": "LayoutModel",
          "model_module_version": "1.2.0",
          "state": {
            "_view_name": "LayoutView",
            "grid_template_rows": null,
            "right": null,
            "justify_content": null,
            "_view_module": "@jupyter-widgets/base",
            "overflow": null,
            "_model_module_version": "1.2.0",
            "_view_count": null,
            "flex_flow": null,
            "width": null,
            "min_width": null,
            "border": null,
            "align_items": null,
            "bottom": null,
            "_model_module": "@jupyter-widgets/base",
            "top": null,
            "grid_column": null,
            "overflow_y": null,
            "overflow_x": null,
            "grid_auto_flow": null,
            "grid_area": null,
            "grid_template_columns": null,
            "flex": null,
            "_model_name": "LayoutModel",
            "justify_items": null,
            "grid_row": null,
            "max_height": null,
            "align_content": null,
            "visibility": null,
            "align_self": null,
            "height": null,
            "min_height": null,
            "padding": null,
            "grid_auto_rows": null,
            "grid_gap": null,
            "max_width": null,
            "order": null,
            "_view_module_version": "1.2.0",
            "grid_template_areas": null,
            "object_position": null,
            "object_fit": null,
            "grid_auto_columns": null,
            "margin": null,
            "display": null,
            "left": null
          }
        },
        "319e182c94b94dc793872ba4650035a5": {
          "model_module": "@jupyter-widgets/controls",
          "model_name": "DescriptionStyleModel",
          "model_module_version": "1.5.0",
          "state": {
            "_view_name": "StyleView",
            "_model_name": "DescriptionStyleModel",
            "description_width": "",
            "_view_module": "@jupyter-widgets/base",
            "_model_module_version": "1.5.0",
            "_view_count": null,
            "_view_module_version": "1.2.0",
            "_model_module": "@jupyter-widgets/controls"
          }
        },
        "05dbd9b47205404aa26ee5cc80c0bece": {
          "model_module": "@jupyter-widgets/base",
          "model_name": "LayoutModel",
          "model_module_version": "1.2.0",
          "state": {
            "_view_name": "LayoutView",
            "grid_template_rows": null,
            "right": null,
            "justify_content": null,
            "_view_module": "@jupyter-widgets/base",
            "overflow": null,
            "_model_module_version": "1.2.0",
            "_view_count": null,
            "flex_flow": null,
            "width": null,
            "min_width": null,
            "border": null,
            "align_items": null,
            "bottom": null,
            "_model_module": "@jupyter-widgets/base",
            "top": null,
            "grid_column": null,
            "overflow_y": null,
            "overflow_x": null,
            "grid_auto_flow": null,
            "grid_area": null,
            "grid_template_columns": null,
            "flex": null,
            "_model_name": "LayoutModel",
            "justify_items": null,
            "grid_row": null,
            "max_height": null,
            "align_content": null,
            "visibility": null,
            "align_self": null,
            "height": null,
            "min_height": null,
            "padding": null,
            "grid_auto_rows": null,
            "grid_gap": null,
            "max_width": null,
            "order": null,
            "_view_module_version": "1.2.0",
            "grid_template_areas": null,
            "object_position": null,
            "object_fit": null,
            "grid_auto_columns": null,
            "margin": null,
            "display": null,
            "left": null
          }
        }
      }
    }
  },
  "cells": [
    {
      "cell_type": "markdown",
      "metadata": {
        "id": "view-in-github",
        "colab_type": "text"
      },
      "source": [
        "<a href=\"https://colab.research.google.com/github/abyki/ml/blob/main/hw2/hw2_akaev.ipynb\" target=\"_parent\"><img src=\"https://colab.research.google.com/assets/colab-badge.svg\" alt=\"Open In Colab\"/></a>"
      ]
    },
    {
      "cell_type": "code",
      "execution_count": 58,
      "metadata": {
        "id": "Loe5BWXlYWWz"
      },
      "outputs": [],
      "source": [
        "import numpy as np\n",
        "import torch\n",
        "import time\n",
        "import pandas as pd\n",
        "import matplotlib.pyplot as plt\n",
        "import sklearn\n",
        "from random import sample\n",
        "import os\n",
        "from datetime import datetime, timedelta\n",
        "from calendar import monthrange\n",
        "from tqdm.notebook import tqdm"
      ]
    },
    {
      "cell_type": "code",
      "source": [
        "class LogisticRegression:\n",
        "    \"\"\"\n",
        "    Logistic regression for scatch on PyTorch.\n",
        "    Batching not implemented.\n",
        "    \n",
        "    \"\"\"\n",
        "    \n",
        "    def __init__(self, device='cpu'):\n",
        "        self.device = device\n",
        "     \n",
        "    \n",
        "    def forward(self, x, w, b):\n",
        "        z = torch.dot(x, w).reshape(1)\n",
        "        z += b\n",
        "        p = 1.0 / (1.0 + torch.exp(-z))\n",
        "        return p\n",
        "        \n",
        "    def fit(self, X, y, penalty=False, epochs=50, learning_rate=3e-4, verbose=1):\n",
        "        \n",
        "        self.X = X.to(self.device) \n",
        "        self.y = y.to(self.device)\n",
        "        \n",
        "        if penalty:\n",
        "            assert (penalty == 'l2') or (penalty == 'l1')\n",
        "        self.penalty = penalty\n",
        "        \n",
        "        assert self.X.size(0) == self.y.size(0)\n",
        "        \n",
        "        \n",
        "        self.epochs = epochs\n",
        "        self.learning_rate = learning_rate\n",
        "        \n",
        "        self.w = torch.rand(self.X.size(1), dtype=torch.float32, requires_grad=True).to(self.device)\n",
        "        \n",
        "        self.w.grad = torch.zeros(self.X.size(1))\n",
        "        self.w.retain_grad()\n",
        "\n",
        "        self.b = torch.zeros(1, dtype=torch.float32, requires_grad=True).to(self.device)\n",
        "        self.b.grad = torch.zeros(1)\n",
        "        self.b.retain_grad()\n",
        "        \n",
        "        \n",
        "        indices = np.arange(self.X.size(0))\n",
        "        for epoch in tqdm(range(self.epochs)):\n",
        "            tot_loss = torch.zeros(1, dtype=torch.float32, requires_grad=True).to(device)\n",
        "            tot_loss.grad = torch.zeros(1)\n",
        "            tot_loss.retain_grad()\n",
        "            \n",
        "            np.random.shuffle(indices)\n",
        "            for i in indices:\n",
        "                x = self.X[i]\n",
        "                target = self.y[i]\n",
        "                out = self.forward(x=x, w=self.w, b=self.b)\n",
        "                # почему такой лосс?\n",
        "                loss = (out - target).pow(2).sum()\n",
        "                tot_loss = loss + tot_loss\n",
        "            \n",
        "            tot_loss = tot_loss \n",
        "            if self.penalty == 'l1':\n",
        "                tot_loss = tot_loss + torch.norm(self.w, p=1)\n",
        "            elif self.penalty == 'l2':\n",
        "                tot_loss = tot_loss + torch.norm(self.w, p=2)\n",
        "                \n",
        "            tot_loss.backward(retain_graph=True)  # compute gradients\n",
        "\n",
        "            self.w.data += -1 * self.learning_rate * self.w.grad.data\n",
        "            self.b.data += -1 * self.learning_rate * self.b.grad.data\n",
        "\n",
        "            self.w.grad = torch.zeros(self.X.size(1))\n",
        "            self.b.grad = torch.zeros(1)\n",
        "\n",
        "            if epoch % verbose == 0:\n",
        "                print(f\"Epoch {epoch} / {self.epochs}\", end=\"\")\n",
        "                print(\"   Loss = %6.4f\" % (tot_loss / self.X.size(0)))\n",
        "        \n",
        "        print(f\"Total loss = %6.4f\" % (tot_loss / self.X.size(0)))\n",
        "\n",
        "    def predict_score(self, x):\n",
        "        return torch.matmul(x, self.w) + self.b\n",
        "    \n",
        "    def predict_proba(self, x):\n",
        "        p = 1.0 / (1.0 + torch.exp(-self.predict_score(x)))\n",
        "        return p"
      ],
      "metadata": {
        "id": "IQGsy_9fYqCp"
      },
      "execution_count": 79,
      "outputs": []
    },
    {
      "cell_type": "code",
      "source": [
        "x = torch.eye(4, 5)\n",
        "w = 2 * torch.ones(5)"
      ],
      "metadata": {
        "id": "bQdM6OZkYrHe"
      },
      "execution_count": 63,
      "outputs": []
    },
    {
      "cell_type": "code",
      "source": [
        "torch.matmul(x, w) + 1"
      ],
      "metadata": {
        "colab": {
          "base_uri": "https://localhost:8080/"
        },
        "id": "kzHUJuJuYt9s",
        "outputId": "013ba7b3-fcb7-493e-fb6d-fa950056baf9"
      },
      "execution_count": 64,
      "outputs": [
        {
          "output_type": "execute_result",
          "data": {
            "text/plain": [
              "tensor([3., 3., 3., 3.])"
            ]
          },
          "metadata": {},
          "execution_count": 64
        }
      ]
    },
    {
      "cell_type": "code",
      "source": [
        "target_median = np.median(df.PRES)\n",
        "df['target'] = np.where(df.PRES >= target_median, 1, 0)"
      ],
      "metadata": {
        "id": "bOcSGEyLYyBD"
      },
      "execution_count": 65,
      "outputs": []
    },
    {
      "cell_type": "code",
      "source": [
        "df['month_sin'] = np.sin(2 * np.pi * df.month / 12.0)\n",
        "df['month_cos'] = np.cos(2 * np.pi * df.month / 12.0)\n",
        "\n",
        "df['hour_sin'] = np.sin(2 * np.pi * df.hour / 24.0)\n",
        "df['hour_cos'] = np.cos(2 * np.pi * df.hour / 24.0)\n",
        "\n",
        "df['day_of_month_sin'] = df.apply(lambda r: np.sin(2 * np.pi * r.day / monthrange(r.year, r.month)[1]),\n",
        "                                  axis=1)\n",
        "df['day_of_month_cos'] = df.apply(lambda r: np.cos(2 * np.pi * r.day / monthrange(r.year, r.month)[1]),\n",
        "                                  axis=1)"
      ],
      "metadata": {
        "id": "lDeZm5T_Y0w2"
      },
      "execution_count": 66,
      "outputs": []
    },
    {
      "cell_type": "code",
      "source": [
        "df_train = df[df.year < 2015]\n",
        "df_val = df[df.year >= 2015]"
      ],
      "metadata": {
        "id": "27zzhnhdY6sE"
      },
      "execution_count": 67,
      "outputs": []
    },
    {
      "cell_type": "code",
      "source": [
        "df_train.shape, df_val.shape"
      ],
      "metadata": {
        "colab": {
          "base_uri": "https://localhost:8080/"
        },
        "id": "Iqowwa8eY9JR",
        "outputId": "93501481-f499-4768-8e67-efd4f416bfea"
      },
      "execution_count": 68,
      "outputs": [
        {
          "output_type": "execute_result",
          "data": {
            "text/plain": [
              "((14587, 24), (6849, 24))"
            ]
          },
          "metadata": {},
          "execution_count": 68
        }
      ]
    },
    {
      "cell_type": "code",
      "source": [
        "from category_encoders import (\n",
        "    JamesSteinEncoder, \n",
        "    CatBoostEncoder, \n",
        "    TargetEncoder\n",
        ")\n",
        "\n",
        "ce_target = TargetEncoder(cols = ['cbwd'])\n",
        "\n",
        "ce_target.fit(df_train.cbwd, df_train.target)\n",
        "\n",
        "df_train['cbwd_te'] = ce_target.transform(df_train.cbwd).cbwd.values\n",
        "df_val['cbwd_te'] = ce_target.transform(df_val.cbwd).cbwd.values"
      ],
      "metadata": {
        "id": "ZJPwWwIAY_PB"
      },
      "execution_count": 69,
      "outputs": []
    },
    {
      "cell_type": "code",
      "source": [
        "df_train.shape, df_val.shape"
      ],
      "metadata": {
        "colab": {
          "base_uri": "https://localhost:8080/"
        },
        "id": "JNK4-EOBZB8A",
        "outputId": "5c23bfca-0cc1-400f-8d46-091b43d08a5f"
      },
      "execution_count": 70,
      "outputs": [
        {
          "output_type": "execute_result",
          "data": {
            "text/plain": [
              "((14587, 25), (6849, 25))"
            ]
          },
          "metadata": {},
          "execution_count": 70
        }
      ]
    },
    {
      "cell_type": "code",
      "source": [
        "used_cols = ['year', 'month_sin', 'month_cos', 'day_of_month_sin',\n",
        "             'day_of_month_cos', 'hour_sin', 'hour_cos', \n",
        "             'cbwd_te', 'season', 'PM_Jingan',\n",
        "             'PM_US Post', 'PM_Xuhui', 'DEWP', 'HUMI', 'TEMP', 'Iws',\n",
        "             'precipitation', 'Iprec']\n",
        "target = 'target'"
      ],
      "metadata": {
        "id": "OGwCnaBkZEZN"
      },
      "execution_count": 71,
      "outputs": []
    },
    {
      "cell_type": "code",
      "source": [
        "from sklearn.preprocessing import StandardScaler\n",
        "\n",
        "sc = StandardScaler()\n",
        "x_train = sc.fit_transform(df_train[used_cols])\n",
        "x_val = sc.transform(df_val[used_cols])"
      ],
      "metadata": {
        "id": "8xc6n64iZGH-"
      },
      "execution_count": 72,
      "outputs": []
    },
    {
      "cell_type": "code",
      "source": [
        "device = torch.device(\"cuda\" if torch.cuda.is_available() else \"cpu\")\n",
        "print(device)"
      ],
      "metadata": {
        "colab": {
          "base_uri": "https://localhost:8080/"
        },
        "id": "7KfV3OyjZKA4",
        "outputId": "6e098ccd-249d-4cb2-93b4-eb606bdc1165"
      },
      "execution_count": 73,
      "outputs": [
        {
          "output_type": "stream",
          "name": "stdout",
          "text": [
            "cpu\n"
          ]
        }
      ]
    },
    {
      "cell_type": "code",
      "source": [
        "x_train = torch.tensor(x_train, dtype=torch.float32).to(device)\n",
        "y_train = torch.tensor(df_train.target.values, dtype=torch.long).to(device)"
      ],
      "metadata": {
        "id": "1X1bkXz0ZZwZ"
      },
      "execution_count": 77,
      "outputs": []
    },
    {
      "cell_type": "code",
      "source": [
        "cls = LogisticRegression(device=device)\n",
        "\n",
        "cls.fit(x_train, y_train, penalty='l2', epochs=100, verbose=5, learning_rate=3e-3)"
      ],
      "metadata": {
        "colab": {
          "base_uri": "https://localhost:8080/",
          "height": 414,
          "referenced_widgets": [
            "2fe782a560a4438891e1077e2ba77f8e",
            "711f22d24f7143ceaf71ea514d987d3f",
            "8415bb7947d549519d0ade5e84e59755",
            "b482732eeb3e4c14b46322287f39dc44",
            "c3568ca63b4a49b29e427a231166a361",
            "26ac2671c33441d49f4aea00a5c4fc5a",
            "a389d7a498ee41678f7c3fcee1aafbf0",
            "f7b7ac0499f342c4b73a7ab50630ec89",
            "46b0a072a53f4457bbc0fe6c174a4c05",
            "319e182c94b94dc793872ba4650035a5",
            "05dbd9b47205404aa26ee5cc80c0bece"
          ]
        },
        "id": "Ai2w9mMWZcC0",
        "outputId": "69203270-2ef6-4acd-d6f2-7f13e4c80431"
      },
      "execution_count": 80,
      "outputs": [
        {
          "output_type": "display_data",
          "data": {
            "application/vnd.jupyter.widget-view+json": {
              "model_id": "2fe782a560a4438891e1077e2ba77f8e",
              "version_minor": 0,
              "version_major": 2
            },
            "text/plain": [
              "  0%|          | 0/100 [00:00<?, ?it/s]"
            ]
          },
          "metadata": {}
        },
        {
          "output_type": "stream",
          "name": "stdout",
          "text": [
            "Epoch 0 / 100   Loss = 0.2585\n",
            "Epoch 5 / 100   Loss = 0.0647\n",
            "Epoch 10 / 100   Loss = 0.0623\n",
            "Epoch 15 / 100   Loss = 0.0611\n",
            "Epoch 20 / 100   Loss = 0.0602\n",
            "Epoch 25 / 100   Loss = 0.0596\n",
            "Epoch 30 / 100   Loss = 0.0593\n",
            "Epoch 35 / 100   Loss = 0.0590\n",
            "Epoch 40 / 100   Loss = 0.0589\n",
            "Epoch 45 / 100   Loss = 0.0588\n",
            "Epoch 50 / 100   Loss = 0.0588\n",
            "Epoch 55 / 100   Loss = 0.0587\n",
            "Epoch 60 / 100   Loss = 0.0587\n",
            "Epoch 65 / 100   Loss = 0.0587\n",
            "Epoch 70 / 100   Loss = 0.0587\n",
            "Epoch 75 / 100   Loss = 0.0589\n",
            "Epoch 80 / 100   Loss = 0.0635\n",
            "Epoch 85 / 100   Loss = 0.0651\n",
            "Epoch 90 / 100   Loss = 0.0611\n",
            "Epoch 95 / 100   Loss = 0.0602\n",
            "Total loss = 0.0601\n"
          ]
        }
      ]
    },
    {
      "cell_type": "code",
      "source": [
        "x_val = torch.tensor(x_val, dtype=torch.float32).to(device)\n",
        "y_val = torch.tensor(df_val.target.values, dtype=torch.long).to(device)"
      ],
      "metadata": {
        "id": "rq6KqcG2Zd44"
      },
      "execution_count": 82,
      "outputs": []
    },
    {
      "cell_type": "code",
      "source": [
        "y_pred = cls.predict_proba(x_val).detach().cpu().numpy()"
      ],
      "metadata": {
        "id": "9KZ-6PUwZgCo"
      },
      "execution_count": 83,
      "outputs": []
    },
    {
      "cell_type": "code",
      "source": [
        "import seaborn as sns\n",
        "\n",
        "sns.distplot(y_pred, label='Prediction')\n",
        "sns.distplot(df_val.target, label='True')\n",
        "plt.legend()\n",
        "plt.show()"
      ],
      "metadata": {
        "colab": {
          "base_uri": "https://localhost:8080/",
          "height": 279
        },
        "id": "bD0jlcvwZijJ",
        "outputId": "0e5f0242-0a5b-42e0-dccb-0b5d58028511"
      },
      "execution_count": 84,
      "outputs": [
        {
          "output_type": "display_data",
          "data": {
            "image/png": "[encoded data removed]",
            "text/plain": [
              "<Figure size 432x288 with 1 Axes>"
            ]
          },
          "metadata": {
            "needs_background": "light"
          }
        }
      ]
    },
    {
      "cell_type": "code",
      "source": [
        "df_val.target.value_counts()"
      ],
      "metadata": {
        "colab": {
          "base_uri": "https://localhost:8080/"
        },
        "id": "9hQ9pfx6Zlzm",
        "outputId": "41bdece3-dd3d-4993-8ab1-89d6c446fe36"
      },
      "execution_count": 85,
      "outputs": [
        {
          "output_type": "execute_result",
          "data": {
            "text/plain": [
              "0    3471\n",
              "1    3378\n",
              "Name: target, dtype: int64"
            ]
          },
          "metadata": {},
          "execution_count": 85
        }
      ]
    },
    {
      "cell_type": "code",
      "source": [
        "y_pred.min(), y_pred.max()"
      ],
      "metadata": {
        "colab": {
          "base_uri": "https://localhost:8080/"
        },
        "id": "agvqPr3xZy_c",
        "outputId": "904a9be4-8cb6-4ee3-a8a9-b316117d6b54"
      },
      "execution_count": 86,
      "outputs": [
        {
          "output_type": "execute_result",
          "data": {
            "text/plain": [
              "(3.3469306e-12, 1.0)"
            ]
          },
          "metadata": {},
          "execution_count": 86
        }
      ]
    },
    {
      "cell_type": "code",
      "source": [
        "from sklearn.metrics import (\n",
        "    accuracy_score,\n",
        "    f1_score,\n",
        "    recall_score,\n",
        "    roc_auc_score\n",
        ")\n",
        "def report(y_true, y_pred_proba):\n",
        "    y_pred_labels = np.where(y_pred_proba >= 0.5, 1, 0)\n",
        "    print('Accuracy:  \\t{}'.format(accuracy_score(y_true, y_pred_labels)))\n",
        "    print('F1-score:  \\t{}'.format(f1_score(y_true, y_pred_labels)))\n",
        "    print('Recall:    \\t{}'.format(recall_score(y_true, y_pred_labels)))\n",
        "    print('ROCAUC:    \\t{}'.format(roc_auc_score(y_true, y_pred_proba)))"
      ],
      "metadata": {
        "id": "WqkW5nOpZ_Z_"
      },
      "execution_count": 87,
      "outputs": []
    },
    {
      "cell_type": "code",
      "source": [
        "report(df_val.target, y_pred)"
      ],
      "metadata": {
        "colab": {
          "base_uri": "https://localhost:8080/"
        },
        "id": "D1nxM_iMaBJR",
        "outputId": "1afc6dfa-71e8-4efe-b4aa-ef6bed36bf85"
      },
      "execution_count": 88,
      "outputs": [
        {
          "output_type": "stream",
          "name": "stdout",
          "text": [
            "Accuracy:  \t0.9163381515549716\n",
            "F1-score:  \t0.9200279134682484\n",
            "Recall:    \t0.9757252812314979\n",
            "ROCAUC:    \t0.973791982593148\n"
          ]
        }
      ]
    },
    {
      "cell_type": "code",
      "source": [
        "from sklearn.preprocessing import StandardScaler\n",
        "\n",
        "sc = StandardScaler()\n",
        "x_train = sc.fit_transform(df_train[used_cols])\n",
        "x_val = sc.transform(df_val[used_cols])"
      ],
      "metadata": {
        "id": "Equ5gnhTaDP_"
      },
      "execution_count": 89,
      "outputs": []
    },
    {
      "cell_type": "code",
      "source": [
        "from sklearn.linear_model import LogisticRegression as lr\n",
        "\n",
        "lr_sklearn = lr(penalty='l2', C=1.0)\n",
        "lr_sklearn.fit(x_train, df_train.target.values)"
      ],
      "metadata": {
        "colab": {
          "base_uri": "https://localhost:8080/"
        },
        "id": "V9aupTFBaFKd",
        "outputId": "dc706f76-6516-489d-fc9a-0dba4d808c00"
      },
      "execution_count": 90,
      "outputs": [
        {
          "output_type": "execute_result",
          "data": {
            "text/plain": [
              "LogisticRegression()"
            ]
          },
          "metadata": {},
          "execution_count": 90
        }
      ]
    },
    {
      "cell_type": "code",
      "source": [
        "y_pred_sklearn = lr_sklearn.predict_proba(x_val)"
      ],
      "metadata": {
        "id": "CSoaW5NLaH7Y"
      },
      "execution_count": 91,
      "outputs": []
    },
    {
      "cell_type": "code",
      "source": [
        "report(df_val.target, y_pred_sklearn[:, 1])"
      ],
      "metadata": {
        "colab": {
          "base_uri": "https://localhost:8080/"
        },
        "id": "uXY4as9NaKTA",
        "outputId": "f6710f2b-8c48-4904-b631-c29d74a611b5"
      },
      "execution_count": 92,
      "outputs": [
        {
          "output_type": "stream",
          "name": "stdout",
          "text": [
            "Accuracy:  \t0.926704628412907\n",
            "F1-score:  \t0.9270348837209302\n",
            "Recall:    \t0.9440497335701599\n",
            "ROCAUC:    \t0.9780052738421829\n"
          ]
        }
      ]
    },
    {
      "cell_type": "markdown",
      "source": [
        "\n",
        "*   Результаты моделей при одинаковых гиперпараметрах оказались очень похожими\n",
        "*   AUC модели из sklearn чуть лучше, чем у нашей модели\n",
        "*   У нашей модели меньше ошибка 2-го рода, но ошибка 1-го рода больше"
      ],
      "metadata": {
        "id": "GKlAMv97gyWe"
      }
    },
    {
      "cell_type": "code",
      "source": [
        ""
      ],
      "metadata": {
        "id": "qwBQ6Nezg_OJ"
      },
      "execution_count": null,
      "outputs": []
    }
  ]
}